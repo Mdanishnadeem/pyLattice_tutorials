{
 "cells": [
  {
   "cell_type": "markdown",
   "metadata": {},
   "source": [
    "# pyLattice Tutorial"
   ]
  },
  {
   "cell_type": "code",
   "execution_count": 1,
   "metadata": {},
   "outputs": [],
   "source": [
    "# by Joh Schöneberg and Cyna Shirazinejad 2019\n",
    "\n",
    "\n",
    "%matplotlib inline\n",
    "import matplotlib.pyplot as plt\n",
    "import numpy as np\n",
    "import pandas as pd\n",
    "\n",
    "\n",
    "### package for 3d visualization\n",
    "from itkwidgets import view                              \n",
    "from aicssegmentation.core.visual import seg_fluo_side_by_side,  single_fluorescent_view, segmentation_quick_view\n",
    "import skimage\n",
    "\n",
    "### local new python segmentation functions\n",
    "import os\n",
    "import sys\n",
    "pythonPackagePath = os.path.abspath('../src/')\n",
    "sys.path.append(pythonPackagePath)\n",
    "from peak_local_max_3d import peak_local_max_3d \n",
    "from gaussian_fitting import fit_multiple_gaussians\n",
    "from extract_data import extract_data_from_filename\n",
    "from gaussian_visualization import visualize_3D_gaussians\n",
    "import matplotlib.pyplot as plt\n"
   ]
  },
  {
   "cell_type": "markdown",
   "metadata": {},
   "source": [
    "# Specify Input / Output Filenames"
   ]
  },
  {
   "cell_type": "code",
   "execution_count": 2,
   "metadata": {},
   "outputs": [],
   "source": [
    "#use intensity threshold 10000\n",
    "#input_filename = '../test_data/cropped_488_pm50px_maxAmpl_0000.tif' \n",
    "input_filename = '../test_data/Channel_3.tif'\n",
    "\n",
    "#use intensity threshold 30000\n",
    "#input_filename = '/Users/johannesschoeneberg/Dropbox/pylattice_testData/uncropped/S3P5_488_150mw_560_300mw_Objdz150nm_ch1_CAM1_stack0000_560nm_0000000msec_0090116101msecAbs_000x_000y_003z_0000t_decon.tif'\n",
    "\n",
    "#outputPath_tiff = (\"../test_data/output_gaussians.tiff\")\n",
    "#outputPath_csv = (\"../test_data/output_gaussians.csv\")\n",
    "\n",
    "outputPath_tiff = (\"../test_data/output_gaussians.tiff\")\n",
    "outputPath_csv = (\"../test_data/output_gaussians.csv\")"
   ]
  },
  {
   "cell_type": "markdown",
   "metadata": {},
   "source": [
    "# View Raw Data\n"
   ]
  },
  {
   "cell_type": "code",
   "execution_count": 3,
   "metadata": {
    "scrolled": true
   },
   "outputs": [
    {
     "name": "stdout",
     "output_type": "stream",
     "text": [
      "(1, 10, 1, 75, 258, 275)\n",
      "(10, 75, 258, 275)\n"
     ]
    },
    {
     "data": {
      "application/vnd.jupyter.widget-view+json": {
       "model_id": "3173ba2d859545b0aa8f0ec5a8b61b83",
       "version_major": 2,
       "version_minor": 0
      },
      "text/plain": [
       "Viewer(geometries=[], gradient_opacity=0.22, point_sets=[], rendered_image=<itk.itkImagePython.itkImageF3; pro…"
      ]
     },
     "metadata": {},
     "output_type": "display_data"
    }
   ],
   "source": [
    "image_raw = extract_data_from_filename(input_filename)\n",
    "print(image_raw.shape)\n",
    "image_raw = np.transpose(image_raw, axes =(0,1,3,2))\n",
    "final_input = image_raw[9]\n",
    "view(single_fluorescent_view(final_input))\n"
   ]
  },
  {
   "cell_type": "markdown",
   "metadata": {},
   "source": [
    "# Set Intensity Threshold"
   ]
  },
  {
   "cell_type": "code",
   "execution_count": 4,
   "metadata": {},
   "outputs": [
    {
     "name": "stdout",
     "output_type": "stream",
     "text": [
      "(75, 275, 258)\n"
     ]
    }
   ],
   "source": [
    "print(final_input.shape)"
   ]
  },
  {
   "cell_type": "code",
   "execution_count": 5,
   "metadata": {},
   "outputs": [
    {
     "data": {
      "application/vnd.jupyter.widget-view+json": {
       "model_id": "86a5777878b84cbdb759907c2f56bfae",
       "version_major": 2,
       "version_minor": 0
      },
      "text/plain": [
       "Viewer(geometries=[], gradient_opacity=0.22, point_sets=[], rendered_image=<itk.itkImagePython.itkImageF3; pro…"
      ]
     },
     "metadata": {},
     "output_type": "display_data"
    }
   ],
   "source": [
    "intensityThreshold = 200\n",
    "image_signal = final_input>intensityThreshold\n",
    "view(single_fluorescent_view(image_signal))"
   ]
  },
  {
   "cell_type": "code",
   "execution_count": 6,
   "metadata": {},
   "outputs": [],
   "source": [
    "##??single_fluorescent_view"
   ]
  },
  {
   "cell_type": "markdown",
   "metadata": {},
   "source": [
    "# Determine Local Maxima as Seeds for Gaussian Fitting"
   ]
  },
  {
   "cell_type": "code",
   "execution_count": 7,
   "metadata": {},
   "outputs": [
    {
     "name": "stdout",
     "output_type": "stream",
     "text": [
      "1676\n"
     ]
    },
    {
     "data": {
      "application/vnd.jupyter.widget-view+json": {
       "model_id": "6075c006dd0848c7b062d5b3cd409c01",
       "version_major": 2,
       "version_minor": 0
      },
      "text/plain": [
       "Viewer(geometries=[], gradient_opacity=0.22, point_sets=[], rendered_image=<itk.itkImagePython.itkImageF3; pro…"
      ]
     },
     "metadata": {},
     "output_type": "display_data"
    }
   ],
   "source": [
    "#~ 5s to run\n",
    "#default min distance was 10\n",
    "maximas = peak_local_max_3d(final_input,min_distance=10,threshold=200)\n",
    "print(len(maximas))\n",
    "image_maxima = np.full(final_input.shape,False)\n",
    "for maxima in maximas:\n",
    "    #print(maxima)\n",
    "    image_maxima[maxima[0],maxima[1],maxima[2]] = 1000\n",
    "view(single_fluorescent_view(image_maxima))"
   ]
  },
  {
   "cell_type": "markdown",
   "metadata": {},
   "source": [
    "# Gaussian Fitting"
   ]
  },
  {
   "cell_type": "code",
   "execution_count": 8,
   "metadata": {},
   "outputs": [],
   "source": [
    "sigmaExpected_x__pixels = 2\n",
    "sigmaExpected_y__pixels = 2\n",
    "sigmaExpected_z__pixels = 4\n",
    "\n",
    "sigmas_guesses = []\n",
    "for i in range(len(maximas)):\n",
    "    sigmas_guesses.append([sigmaExpected_z__pixels,sigmaExpected_x__pixels,sigmaExpected_y__pixels])"
   ]
  },
  {
   "cell_type": "code",
   "execution_count": 9,
   "metadata": {},
   "outputs": [
    {
     "name": "stdout",
     "output_type": "stream",
     "text": [
      "10%(168 of 1676)\n",
      "20%(336 of 1676)\n",
      "30%(503 of 1676)\n",
      "40%(671 of 1676)\n",
      "50%(838 of 1676)\n",
      "60%(1006 of 1676)\n",
      "70%(1174 of 1676)\n",
      "80%(1341 of 1676)\n",
      "90%(1509 of 1676)\n",
      "100%(1676 of 1676)\n"
     ]
    }
   ],
   "source": [
    "#~100s to run\n",
    "gaussians, gaussians_popt = fit_multiple_gaussians(final_input,maximas,sigmas_guesses,5)"
   ]
  },
  {
   "cell_type": "markdown",
   "metadata": {},
   "source": [
    "# Visualize the Fitted Gaussians"
   ]
  },
  {
   "cell_type": "code",
   "execution_count": 10,
   "metadata": {},
   "outputs": [
    {
     "data": {
      "application/vnd.jupyter.widget-view+json": {
       "model_id": "7da474a0eb7c45ec9c76005863770f0a",
       "version_major": 2,
       "version_minor": 0
      },
      "text/plain": [
       "Viewer(geometries=[], gradient_opacity=0.22, point_sets=[], rendered_image=<itk.itkImagePython.itkImageF3; pro…"
      ]
     },
     "metadata": {},
     "output_type": "display_data"
    }
   ],
   "source": [
    "#takes ~15s\n",
    "image_gaussians = visualize_3D_gaussians(final_input,gaussians)\n",
    "view(single_fluorescent_view(image_gaussians))"
   ]
  },
  {
   "cell_type": "markdown",
   "metadata": {},
   "source": [
    "# Export Gaussians as tiff"
   ]
  },
  {
   "cell_type": "code",
   "execution_count": 11,
   "metadata": {},
   "outputs": [],
   "source": [
    "image_gaussians_transposed = np.transpose(image_gaussians,axes = (0,2,1))"
   ]
  },
  {
   "cell_type": "code",
   "execution_count": 12,
   "metadata": {},
   "outputs": [
    {
     "name": "stdout",
     "output_type": "stream",
     "text": [
      "/Users/apple/Desktop/Akamatsu_Lab/pyLattice_tutorials/test_data/output_gaussians.tiff\n"
     ]
    }
   ],
   "source": [
    "skimage.external.tifffile.imsave(outputPath_tiff, image_gaussians_transposed.astype('uint16'))    \n",
    "print(os.path.abspath(outputPath_tiff))"
   ]
  },
  {
   "cell_type": "code",
   "execution_count": 13,
   "metadata": {},
   "outputs": [],
   "source": [
    "#print(len(gaussians))\n",
    "#print(len(gaussians[0]))\n",
    "#print(gaussians[0])\n",
    "#print('This is intensity', gaussians[0][0])\n",
    "#print('This is mean of axis values', gaussians[0][1])\n",
    "#print('This is sigma(std_dev) of axis values', gaussians[0][2])"
   ]
  },
  {
   "cell_type": "markdown",
   "metadata": {},
   "source": [
    "# Export Gaussians as Excel"
   ]
  },
  {
   "cell_type": "code",
   "execution_count": 14,
   "metadata": {},
   "outputs": [
    {
     "name": "stdout",
     "output_type": "stream",
     "text": [
      "/Users/apple/Desktop/Akamatsu_Lab/pyLattice_tutorials/test_data/output_gaussians.csv\n"
     ]
    }
   ],
   "source": [
    "accumulator = []\n",
    "for gaussian in gaussians:\n",
    "\n",
    "    if(gaussian!=-1):\n",
    "        amplitude = gaussian[0]\n",
    "        \n",
    "        #print(gaussian)\n",
    "        mu_x     = int(gaussian[1][1]) ##this is going to be mu_z, previous code [1][0]\n",
    "        mu_y     = int(gaussian[1][2]) ##need to finalise what this is (x or y) [1][1]\n",
    "        mu_z     = int(gaussian[1][0]) ##need to finalise what this is (x or y) [1][2]\n",
    "        ##sigmas will also change due to the above \n",
    "        sigma_x  = int(gaussian[2][1]) \n",
    "        sigma_y  = int(gaussian[2][2])\n",
    "        sigma_z  = int(gaussian[2][0])\n",
    "        accumulator.append(np.array([amplitude,mu_x,mu_y,mu_z,sigma_x,sigma_y,sigma_z]))\n",
    "accumulator = np.array(accumulator)\n",
    "df = pd.DataFrame()\n",
    "df['amplitude'] = accumulator[:,0]\n",
    "df['mu_x'] = accumulator[:,1]\n",
    "df['mu_y'] = accumulator[:,2]\n",
    "df['mu_z'] = accumulator[:,3]\n",
    "df['sigma_x'] = accumulator[:,4]\n",
    "df['sigma_y'] = accumulator[:,5]\n",
    "df['sigma_z'] = accumulator[:,6]\n",
    "df.to_csv(outputPath_csv)\n",
    "print(os.path.abspath(outputPath_csv))"
   ]
  },
  {
   "cell_type": "code",
   "execution_count": 15,
   "metadata": {},
   "outputs": [
    {
     "name": "stdout",
     "output_type": "stream",
     "text": [
      "the gaussian did not fit\n",
      "the gaussian did not fit\n"
     ]
    }
   ],
   "source": [
    "##Check errors \n",
    "#checking_fitting_error(image,maximas,net_gaussians,sigmas_guesses)\n",
    "from gaussian_fitting import check_fitting_error\n",
    "error_list = check_fitting_error(final_input,maximas,gaussians,sigmas_guesses)"
   ]
  },
  {
   "cell_type": "code",
   "execution_count": 16,
   "metadata": {},
   "outputs": [],
   "source": [
    "#error_list\n",
    "##The following output has the following format \n",
    "##error_list[0][0] == MAE of amplitude\n",
    "##error_list[0][1] == list(MAE of x,y,z value) \n",
    "##error_list[0][2] == list(MAE of sigmas of x,y,z value)"
   ]
  },
  {
   "cell_type": "code",
   "execution_count": 17,
   "metadata": {},
   "outputs": [
    {
     "data": {
      "text/html": [
       "<div>\n",
       "<style scoped>\n",
       "    .dataframe tbody tr th:only-of-type {\n",
       "        vertical-align: middle;\n",
       "    }\n",
       "\n",
       "    .dataframe tbody tr th {\n",
       "        vertical-align: top;\n",
       "    }\n",
       "\n",
       "    .dataframe thead th {\n",
       "        text-align: right;\n",
       "    }\n",
       "</style>\n",
       "<table border=\"1\" class=\"dataframe\">\n",
       "  <thead>\n",
       "    <tr style=\"text-align: right;\">\n",
       "      <th></th>\n",
       "      <th>amplitude</th>\n",
       "      <th>mu_x</th>\n",
       "      <th>mu_y</th>\n",
       "      <th>mu_z</th>\n",
       "      <th>sigma_x</th>\n",
       "      <th>sigma_y</th>\n",
       "      <th>sigma_z</th>\n",
       "    </tr>\n",
       "  </thead>\n",
       "  <tbody>\n",
       "    <tr>\n",
       "      <th>0</th>\n",
       "      <td>205.333333</td>\n",
       "      <td>47.0</td>\n",
       "      <td>73.0</td>\n",
       "      <td>-2.0</td>\n",
       "      <td>1.0</td>\n",
       "      <td>1.0</td>\n",
       "      <td>5.0</td>\n",
       "    </tr>\n",
       "    <tr>\n",
       "      <th>1</th>\n",
       "      <td>202.333333</td>\n",
       "      <td>52.0</td>\n",
       "      <td>143.0</td>\n",
       "      <td>-1.0</td>\n",
       "      <td>3.0</td>\n",
       "      <td>2.0</td>\n",
       "      <td>5.0</td>\n",
       "    </tr>\n",
       "    <tr>\n",
       "      <th>2</th>\n",
       "      <td>204.333333</td>\n",
       "      <td>87.0</td>\n",
       "      <td>82.0</td>\n",
       "      <td>-4.0</td>\n",
       "      <td>2.0</td>\n",
       "      <td>1.0</td>\n",
       "      <td>7.0</td>\n",
       "    </tr>\n",
       "    <tr>\n",
       "      <th>3</th>\n",
       "      <td>199.333333</td>\n",
       "      <td>105.0</td>\n",
       "      <td>100.0</td>\n",
       "      <td>-2.0</td>\n",
       "      <td>2.0</td>\n",
       "      <td>1.0</td>\n",
       "      <td>9.0</td>\n",
       "    </tr>\n",
       "    <tr>\n",
       "      <th>4</th>\n",
       "      <td>271.333333</td>\n",
       "      <td>110.0</td>\n",
       "      <td>161.0</td>\n",
       "      <td>-3.0</td>\n",
       "      <td>1.0</td>\n",
       "      <td>1.0</td>\n",
       "      <td>6.0</td>\n",
       "    </tr>\n",
       "  </tbody>\n",
       "</table>\n",
       "</div>"
      ],
      "text/plain": [
       "    amplitude   mu_x   mu_y  mu_z  sigma_x  sigma_y  sigma_z\n",
       "0  205.333333   47.0   73.0  -2.0      1.0      1.0      5.0\n",
       "1  202.333333   52.0  143.0  -1.0      3.0      2.0      5.0\n",
       "2  204.333333   87.0   82.0  -4.0      2.0      1.0      7.0\n",
       "3  199.333333  105.0  100.0  -2.0      2.0      1.0      9.0\n",
       "4  271.333333  110.0  161.0  -3.0      1.0      1.0      6.0"
      ]
     },
     "execution_count": 17,
     "metadata": {},
     "output_type": "execute_result"
    }
   ],
   "source": [
    "df.head()"
   ]
  },
  {
   "cell_type": "code",
   "execution_count": 18,
   "metadata": {},
   "outputs": [],
   "source": [
    "'''\n",
    "# Define the file path for the pickle file\n",
    "pickle_file_path = '../DataFrames/Channel_3/df_c3_t9.pkl'\n",
    "\n",
    "# Save the DataFrame to a pickle file\n",
    "df.to_pickle(pickle_file_path)\n",
    "'''"
   ]
  },
  {
   "cell_type": "code",
   "execution_count": null,
   "metadata": {},
   "outputs": [],
   "source": []
  }
 ],
 "metadata": {
  "kernelspec": {
   "display_name": "Python 3",
   "language": "python",
   "name": "python3"
  },
  "language_info": {
   "codemirror_mode": {
    "name": "ipython",
    "version": 3
   },
   "file_extension": ".py",
   "mimetype": "text/x-python",
   "name": "python",
   "nbconvert_exporter": "python",
   "pygments_lexer": "ipython3",
   "version": "3.6.13"
  }
 },
 "nbformat": 4,
 "nbformat_minor": 2
}
